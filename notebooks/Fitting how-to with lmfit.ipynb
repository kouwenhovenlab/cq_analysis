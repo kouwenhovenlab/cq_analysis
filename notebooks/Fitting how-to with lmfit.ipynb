{
 "cells": [
  {
   "cell_type": "code",
   "execution_count": null,
   "metadata": {
    "ExecuteTime": {
     "end_time": "2019-06-18T12:43:33.530453Z",
     "start_time": "2019-06-18T12:43:27.497126Z"
    }
   },
   "outputs": [],
   "source": [
    "%matplotlib notebook\n",
    "\n",
    "import numpy as np\n",
    "from matplotlib import pyplot as plt\n",
    "\n",
    "import lmfit\n",
    "\n",
    "### constants\n",
    "twopi = 2 * np.pi"
   ]
  },
  {
   "cell_type": "markdown",
   "metadata": {},
   "source": [
    "# Basic fitting with lmfit models\n",
    "\n",
    "A very convenient toolset is provided by the lmfit package, in particular when using the model wrappers: https://lmfit.github.io/lmfit-py/model.html\n",
    "\n",
    "This is a simple example on how to use it, using a simple sine model. All in all it is very simple to use:\n",
    "* define the fit function. here: a sine with variable frequency, amplitude, phase, and an offset.\n",
    "* use lmfit to construct a fit model automatically\n",
    "* make an initial guess\n",
    "* perform the fit\n",
    "\n",
    "That is all that's needed in this case. See the lmfit documentation for more details."
   ]
  },
  {
   "cell_type": "code",
   "execution_count": null,
   "metadata": {
    "ExecuteTime": {
     "end_time": "2019-06-18T12:54:00.516741Z",
     "start_time": "2019-06-18T12:54:00.385220Z"
    }
   },
   "outputs": [],
   "source": [
    "f = 0.4 # the frequency\n",
    "phi = 0 * np.pi/2. # the phase\n",
    "of = 0.3 # offset\n",
    "scale = 0.7 # scaling factor\n",
    "noiselevel = 0.4 # scale of added noise (normally distributed)\n",
    "\n",
    "# define the model\n",
    "def sine(xs, f, phi, of, scale):\n",
    "    return scale * np.sin(twopi * f * xs + phi) + of\n",
    "\n",
    "sinemodel = lmfit.Model(sine)\n",
    "\n",
    "# make some mock-data\n",
    "xs = np.linspace(0, 10, 201)\n",
    "y_ideal = sine(xs, f, phi, of, scale)\n",
    "y_data = y_ideal + np.random.normal(loc=0, scale=noiselevel, size=xs.size)\n",
    "\n",
    "# fitting.\n",
    "# first make the params, and place some initial guess\n",
    "p0 = sinemodel.make_params(f=0.4, phi=0, of=0.2, scale=0.5)\n",
    "\n",
    "# perform the fit.\n",
    "y_guess = sinemodel.eval(p0, xs=xs)\n",
    "fit_result = sinemodel.fit(y_data, p0, xs=xs, method='nelder')\n",
    "y_fit = sinemodel.eval(fit_result.params, xs=xs)\n",
    "\n",
    "# plot: we're plotting the data, the ideal data, the initial guess, and the fit result.\n",
    "fig, ax = plt.subplots(1, 1)\n",
    "ax.plot(xs, y_data, 'ko-', mfc='w', mec='k', lw=0.5)\n",
    "ax.plot(xs, y_ideal, 'k--', lw=1)\n",
    "ax.plot(xs, y_guess, 'g:', lw=2)\n",
    "ax.plot(xs, y_fit, 'b', lw=2)\n",
    "\n",
    "print(fit_result.fit_report())"
   ]
  },
  {
   "cell_type": "code",
   "execution_count": null,
   "metadata": {},
   "outputs": [],
   "source": []
  },
  {
   "cell_type": "markdown",
   "metadata": {},
   "source": [
    "# Custom lmfit models\n",
    "\n",
    "We can save us some manual labor if we're able to automatically determine a good initial guess from the data. That is particularly handy if we want to fit multiple data sets automatically. \n",
    "\n",
    "For our sine example, we can get a guess for frequency and phase from the FFT of the data, and amplitude and offset directly from the data. We can then write a simple extension of the model to include a guess function (see lmfit docs). This works pretty well -- no more manual guessing needed in this case."
   ]
  },
  {
   "cell_type": "code",
   "execution_count": null,
   "metadata": {
    "ExecuteTime": {
     "end_time": "2019-06-18T12:47:36.943749Z",
     "start_time": "2019-06-18T12:47:36.815266Z"
    }
   },
   "outputs": [],
   "source": [
    "### Define the model class\n",
    "class SineModel(lmfit.Model):\n",
    "    \n",
    "    @staticmethod\n",
    "    def func(xs, f, phi, of, scale):\n",
    "        return scale * np.sin(twopi * f * xs + phi) + of\n",
    "    \n",
    "    def __init__(self):\n",
    "        super().__init__(SineModel.func)\n",
    "        \n",
    "    def guess(self, data, xs):\n",
    "        \"\"\"Simple initial guess from the FFT of the data.\"\"\"\n",
    "        dx = (xs[1:]-xs[:-1]).mean()\n",
    "        ffty = np.fft.rfft(data)\n",
    "        ffty[0] = 0. # remove the DC component\n",
    "        fftx = np.fft.rfftfreq(data.size, d=dx)\n",
    "        fidx = np.argmax(np.abs(ffty))\n",
    "        \n",
    "        # make the parameters. notes:\n",
    "        # * since we're fitting with since, we have to rotate the fft result to get the right frame.\n",
    "        # * the noisier this \n",
    "        p0 = self.make_params(f=fftx[fidx], phi=np.angle(ffty[fidx] * np.exp(1j*np.pi/2.)), \n",
    "                              of=data.mean(), scale=(data.max()-data.min())/2.)\n",
    "        return p0\n",
    "    \n",
    "sinemodel = SineModel()\n",
    "\n",
    "\n",
    "### Example parameters\n",
    "f = 0.5 # the frequency\n",
    "phi = np.pi/2. # the phase\n",
    "of = 1 # offset\n",
    "scale = 0.7 # scaling factor\n",
    "noiselevel = 0.3 # scale of added noise (normally distributed)\n",
    "\n",
    "\n",
    "### make some mock-data\n",
    "xs = np.linspace(0, 10, 201)\n",
    "p_ideal = sinemodel.make_params(f=f, phi=phi, of=of, scale=scale)\n",
    "y_ideal = sinemodel.eval(p_ideal, xs=xs)\n",
    "y_data = y_ideal + np.random.normal(loc=0, scale=noiselevel, size=xs.size)\n",
    "\n",
    "### fitting\n",
    "\n",
    "# first, initial guess. in principle we can still work on p0 if we needed to.\n",
    "p0 = sinemodel.guess(y_data, xs)\n",
    "y_guess = sinemodel.eval(p0, xs=xs)\n",
    "\n",
    "# perform the fit\n",
    "fit_result = sinemodel.fit(y_data, p0, xs=xs, method='nelder')\n",
    "y_fit = sinemodel.eval(fit_result.params, xs=xs)\n",
    "\n",
    "fig, ax = plt.subplots(1, 1)\n",
    "ax.plot(xs, y_data, 'ko-', mfc='w', mec='k', lw=0.5)\n",
    "ax.plot(xs, y_ideal, 'k--', lw=1)\n",
    "ax.plot(xs, y_guess, 'g:', lw=2)\n",
    "ax.plot(xs, y_fit, 'b', lw=2)\n",
    "\n",
    "print(fit_result.fit_report())"
   ]
  },
  {
   "cell_type": "code",
   "execution_count": null,
   "metadata": {
    "ExecuteTime": {
     "end_time": "2019-06-18T12:14:44.533034Z",
     "start_time": "2019-06-18T12:14:44.509330Z"
    }
   },
   "outputs": [],
   "source": []
  },
  {
   "cell_type": "markdown",
   "metadata": {},
   "source": [
    "# Fitting asymmetric resonator responses\n",
    "\n",
    "This is a more interesting, real-world example based on complex data. The lmfit model supports complex data out-of-the-box, which is very handy. Below you can find a very simple implementation for fitting asymmetric ('hanger'-type) resonator responses. For the physical model, see Khalil et al., J. Appl. Phys. (2011) (https://arxiv.org/abs/1108.3117). "
   ]
  },
  {
   "cell_type": "code",
   "execution_count": null,
   "metadata": {
    "ExecuteTime": {
     "end_time": "2019-06-18T13:54:13.048289Z",
     "start_time": "2019-06-18T13:54:12.802382Z"
    }
   },
   "outputs": [],
   "source": [
    "class AssymS21Model(lmfit.Model):\n",
    "    \n",
    "    @staticmethod\n",
    "    def s21_khalil(fs, f0, Q_i, Q_e_mag, Q_e_phase):\n",
    "        Q_e = Q_e_mag * np.exp(-1j * Q_e_phase)\n",
    "        Q_c = 1./((1./Q_e).real)\n",
    "        Q_tot = 1./(1./Q_i + 1./Q_c)\n",
    "        return 1. - (Q_tot/Q_e_mag * np.exp(1j*Q_e_phase)) / (1 + 2j * Q_tot * (fs-f0)/f0)\n",
    "    \n",
    "    @staticmethod\n",
    "    def func(fs, f0, Q_i, Q_e_mag, Q_e_phase, amp_slope, amp_offset, phase_winding, phase_offset):\n",
    "        sig = AssymS21Model.s21_khalil(fs, f0, Q_i, Q_e_mag, Q_e_phase)\n",
    "        sig *= amp_offset * (1. + amp_slope * (fs-f0)/f0)\n",
    "        sig *= np.exp(1j * (phase_offset + phase_winding * fs))\n",
    "        return sig\n",
    "    \n",
    "    def __init__(self):\n",
    "        super().__init__(AssymS21Model.func)\n",
    "        \n",
    "s21model = AssymS21Model()\n",
    "\n",
    "\n",
    "### Example parameters and mock data\n",
    "p_ideal = s21model.make_params(\n",
    "    f0 = 5e8,\n",
    "    Q_i = 1e5,\n",
    "    Q_e_mag = 400,\n",
    "    Q_e_phase = -np.pi/4.,\n",
    "    amp_slope = 0,\n",
    "    amp_offset = 1.,\n",
    "    phase_winding = 0,\n",
    "    phase_offset = 0,\n",
    ")\n",
    "\n",
    "fs = np.linspace(4.9, 5.1, 1001) * 1e8\n",
    "y_ideal = s21model.eval(p_ideal, fs=fs)\n",
    "\n",
    "# for mock data, add real and imaginary noise\n",
    "y_data = y_ideal + np.random.normal(scale=0.05, size=fs.size) + 1j*np.random.normal(scale=0.05, size=fs.size)\n",
    "\n",
    "\n",
    "### fitting\n",
    "p_guess = s21model.make_params(\n",
    "    f0 = fs[np.argmin(np.abs(y_data))],\n",
    "    Q_i = 1e6,\n",
    "    Q_e_mag = 500,\n",
    "    Q_e_phase = 0,\n",
    "    amp_slope = 0,\n",
    "    amp_offset = 1,\n",
    "    phase_winding = 0,\n",
    "    phase_offset = 0,\n",
    ")\n",
    "\n",
    "# let's assume we've measured some of our line properties beforehand, and can fix them\n",
    "# to an independently established value\n",
    "p_guess['phase_winding'].vary = False\n",
    "p_guess['phase_offset'].vary = False\n",
    "\n",
    "\n",
    "y_guess = s21model.eval(p_guess, fs=fs)\n",
    "fit_result = s21model.fit(y_data, p_guess, fs=fs, method='leastsq')\n",
    "y_fit = s21model.eval(fit_result.params, fs=fs)\n",
    "\n",
    "print(fit_result.fit_report())\n",
    "\n",
    "\n",
    "### plotting\n",
    "fig, axes = plt.subplots(1, 3, figsize=(9,3))\n",
    "\n",
    "# magnitude\n",
    "ax = axes[0]\n",
    "ax.plot(fs, np.abs(y_data), 'k.')\n",
    "ax.plot(fs, np.abs(y_guess), 'g-')\n",
    "ax.plot(fs, np.abs(y_fit), 'r-')\n",
    "\n",
    "# phase\n",
    "ax = axes[1]\n",
    "ax.plot(fs, np.angle(y_data), 'k.')\n",
    "ax.plot(fs, np.angle(y_guess), 'g-')\n",
    "ax.plot(fs, np.angle(y_fit), 'r-')\n",
    "\n",
    "# circle\n",
    "ax = axes[2]\n",
    "ax.plot(y_data.real, y_data.imag, 'k.')\n",
    "ax.plot(y_guess.real, y_guess.imag, 'g-')\n",
    "ax.plot(y_fit.real, y_fit.imag, 'r-')\n",
    "\n",
    "fig.tight_layout()"
   ]
  },
  {
   "cell_type": "code",
   "execution_count": null,
   "metadata": {},
   "outputs": [],
   "source": []
  }
 ],
 "metadata": {
  "kernelspec": {
   "display_name": "Python [conda env:analysis] *",
   "language": "python",
   "name": "conda-env-analysis-py"
  },
  "language_info": {
   "codemirror_mode": {
    "name": "ipython",
    "version": 3
   },
   "file_extension": ".py",
   "mimetype": "text/x-python",
   "name": "python",
   "nbconvert_exporter": "python",
   "pygments_lexer": "ipython3",
   "version": "3.6.8"
  },
  "toc": {
   "base_numbering": 1,
   "nav_menu": {},
   "number_sections": true,
   "sideBar": true,
   "skip_h1_title": false,
   "title_cell": "Table of Contents",
   "title_sidebar": "Contents",
   "toc_cell": false,
   "toc_position": {},
   "toc_section_display": true,
   "toc_window_display": true
  }
 },
 "nbformat": 4,
 "nbformat_minor": 2
}
